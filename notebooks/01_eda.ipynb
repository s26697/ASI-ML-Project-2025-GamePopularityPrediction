{
 "cells": [
  {
   "cell_type": "code",
   "id": "initial_id",
   "metadata": {},
   "source": [
    "import pandas as pd\n",
    "# import numpy as np\n",
    "# import matplotlib.pyplot as plt\n",
    "# from scipy.stats import zscore\n",
    "\n",
    "file = '../data/01_raw/top_500.csv'\n",
    "\n",
    "try:\n",
    "     data = pd.read_csv(file)\n",
    "     print(f\"Plik '{file}' został poprawnie wczytany.\")\n",
    "except Exception as e:\n",
    "     print(f\"Błąd podczas wczytywania pliku: {e}\")\n",
    "     data = pd.DataFrame()"
   ],
   "outputs": [],
   "execution_count": null
  },
  {
   "metadata": {},
   "cell_type": "code",
   "source": [
    "# Podstawowe informacje o danych\n",
    "info = pd.DataFrame({\n",
    "    'Typ kolumny': data.dtypes,\n",
    "    'Brakujące wartości': data.isnull().sum(),\n",
    "    'Unikalne wartości': data.nunique()\n",
    "})\n",
    "\n",
    "print(f\"Rozmiar danych: {data.shape[0]} wierszy × {data.shape[1]} kolumn\\n\")\n",
    "display(info)"
   ],
   "id": "de3e72cb83d4c35c",
   "outputs": [],
   "execution_count": null
  }
 ],
 "metadata": {
  "kernelspec": {
   "display_name": "Python 3",
   "language": "python",
   "name": "python3"
  },
  "language_info": {
   "codemirror_mode": {
    "name": "ipython",
    "version": 2
   },
   "file_extension": ".py",
   "mimetype": "text/x-python",
   "name": "python",
   "nbconvert_exporter": "python",
   "pygments_lexer": "ipython2",
   "version": "2.7.6"
  }
 },
 "nbformat": 4,
 "nbformat_minor": 5
}
